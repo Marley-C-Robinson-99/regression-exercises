{
 "cells": [
  {
   "cell_type": "code",
   "execution_count": 1,
   "id": "b6a00ed1",
   "metadata": {},
   "outputs": [],
   "source": [
    "import pandas as pd\n",
    "import numpy as np\n",
    "import pydataset\n",
    "import evaluate as ev\n",
    "import matplotlib.pyplot as plt\n",
    "from sklearn.feature_selection import SelectKBest, f_regression, RFE\n",
    "from sklearn.linear_model import LinearRegression\n",
    "from sklearn.model_selection import train_test_split\n",
    "from sklearn.preprocessing import StandardScaler\n",
    "\n",
    "tips = pydataset.data('tips')"
   ]
  },
  {
   "cell_type": "code",
   "execution_count": 2,
   "id": "3ff6a2dc",
   "metadata": {},
   "outputs": [
    {
     "data": {
      "text/html": [
       "<div>\n",
       "<style scoped>\n",
       "    .dataframe tbody tr th:only-of-type {\n",
       "        vertical-align: middle;\n",
       "    }\n",
       "\n",
       "    .dataframe tbody tr th {\n",
       "        vertical-align: top;\n",
       "    }\n",
       "\n",
       "    .dataframe thead th {\n",
       "        text-align: right;\n",
       "    }\n",
       "</style>\n",
       "<table border=\"1\" class=\"dataframe\">\n",
       "  <thead>\n",
       "    <tr style=\"text-align: right;\">\n",
       "      <th></th>\n",
       "      <th>total_bill</th>\n",
       "      <th>tip</th>\n",
       "      <th>sex</th>\n",
       "      <th>smoker</th>\n",
       "      <th>day</th>\n",
       "      <th>time</th>\n",
       "      <th>size</th>\n",
       "      <th>tip_percentage</th>\n",
       "      <th>price_per_person</th>\n",
       "    </tr>\n",
       "  </thead>\n",
       "  <tbody>\n",
       "    <tr>\n",
       "      <th>1</th>\n",
       "      <td>16.99</td>\n",
       "      <td>1.01</td>\n",
       "      <td>Female</td>\n",
       "      <td>No</td>\n",
       "      <td>Sun</td>\n",
       "      <td>Dinner</td>\n",
       "      <td>2</td>\n",
       "      <td>0.06</td>\n",
       "      <td>8.49</td>\n",
       "    </tr>\n",
       "    <tr>\n",
       "      <th>2</th>\n",
       "      <td>10.34</td>\n",
       "      <td>1.66</td>\n",
       "      <td>Male</td>\n",
       "      <td>No</td>\n",
       "      <td>Sun</td>\n",
       "      <td>Dinner</td>\n",
       "      <td>3</td>\n",
       "      <td>0.16</td>\n",
       "      <td>3.45</td>\n",
       "    </tr>\n",
       "    <tr>\n",
       "      <th>3</th>\n",
       "      <td>21.01</td>\n",
       "      <td>3.50</td>\n",
       "      <td>Male</td>\n",
       "      <td>No</td>\n",
       "      <td>Sun</td>\n",
       "      <td>Dinner</td>\n",
       "      <td>3</td>\n",
       "      <td>0.17</td>\n",
       "      <td>7.00</td>\n",
       "    </tr>\n",
       "    <tr>\n",
       "      <th>4</th>\n",
       "      <td>23.68</td>\n",
       "      <td>3.31</td>\n",
       "      <td>Male</td>\n",
       "      <td>No</td>\n",
       "      <td>Sun</td>\n",
       "      <td>Dinner</td>\n",
       "      <td>2</td>\n",
       "      <td>0.14</td>\n",
       "      <td>11.84</td>\n",
       "    </tr>\n",
       "    <tr>\n",
       "      <th>5</th>\n",
       "      <td>24.59</td>\n",
       "      <td>3.61</td>\n",
       "      <td>Female</td>\n",
       "      <td>No</td>\n",
       "      <td>Sun</td>\n",
       "      <td>Dinner</td>\n",
       "      <td>4</td>\n",
       "      <td>0.15</td>\n",
       "      <td>6.15</td>\n",
       "    </tr>\n",
       "  </tbody>\n",
       "</table>\n",
       "</div>"
      ],
      "text/plain": [
       "   total_bill   tip     sex smoker  day    time  size  tip_percentage  \\\n",
       "1       16.99  1.01  Female     No  Sun  Dinner     2            0.06   \n",
       "2       10.34  1.66    Male     No  Sun  Dinner     3            0.16   \n",
       "3       21.01  3.50    Male     No  Sun  Dinner     3            0.17   \n",
       "4       23.68  3.31    Male     No  Sun  Dinner     2            0.14   \n",
       "5       24.59  3.61  Female     No  Sun  Dinner     4            0.15   \n",
       "\n",
       "   price_per_person  \n",
       "1              8.49  \n",
       "2              3.45  \n",
       "3              7.00  \n",
       "4             11.84  \n",
       "5              6.15  "
      ]
     },
     "execution_count": 2,
     "metadata": {},
     "output_type": "execute_result"
    }
   ],
   "source": [
    "tips['tip_percentage'] = round(tips['tip'] / tips['total_bill'], 2)\n",
    "tips['price_per_person'] = round(tips['total_bill'] / tips['size'], 2)\n",
    "tips.head()"
   ]
  },
  {
   "cell_type": "markdown",
   "id": "a160a6b2",
   "metadata": {},
   "source": [
    "#### which features do you think would be most important for predicting the tip amount?\n",
    "- total_bill and tip_percentage"
   ]
  },
  {
   "cell_type": "code",
   "execution_count": 27,
   "id": "bdf5b498",
   "metadata": {},
   "outputs": [],
   "source": [
    "# Little bit of data prep\n",
    "X = tips[[col for col in tips.columns if tips[col].dtype != object]].drop(columns = 'tip')\n",
    "y = tips.tip"
   ]
  },
  {
   "cell_type": "code",
   "execution_count": 4,
   "id": "40d077e4",
   "metadata": {},
   "outputs": [],
   "source": [
    "X_train, X_test, y_train, y_test = train_test_split(X, y, test_size=.2, random_state=123)\n",
    "scaler = StandardScaler()\n",
    "X_train_scaled = scaler.fit_transform(X_train)\n",
    "X_test_scaled = scaler.transform(X_test)"
   ]
  },
  {
   "cell_type": "code",
   "execution_count": 5,
   "id": "43d73f18",
   "metadata": {},
   "outputs": [],
   "source": [
    "kbest = SelectKBest(f_regression, k=2)\n",
    "kbest.fit(X_train_scaled, y_train)\n",
    "kbest_features = X_train.columns[kbest.get_support()]\n",
    "kbest_scores = kbest.scores_[kbest.get_support()]\n"
   ]
  },
  {
   "cell_type": "code",
   "execution_count": 6,
   "id": "e49dc1c5",
   "metadata": {},
   "outputs": [
    {
     "data": {
      "text/plain": [
       "(array([172.91364957,  65.27477   ]),\n",
       " Index(['total_bill', 'size'], dtype='object'))"
      ]
     },
     "execution_count": 6,
     "metadata": {},
     "output_type": "execute_result"
    }
   ],
   "source": [
    "kbest_scores, kbest_features"
   ]
  },
  {
   "cell_type": "markdown",
   "id": "5351f69f",
   "metadata": {},
   "source": [
    "#### What are the 2 best features?"
   ]
  },
  {
   "cell_type": "code",
   "execution_count": 7,
   "id": "6207cff2",
   "metadata": {},
   "outputs": [
    {
     "name": "stdout",
     "output_type": "stream",
     "text": [
      "Feature 0: 172.913650\n",
      "Feature 1: 65.274770\n",
      "Feature 2: 29.764992\n",
      "Feature 3: 26.729285\n"
     ]
    },
    {
     "data": {
      "text/plain": [
       "\"The top 2 features from kbest are: Index(['total_bill', 'size'], dtype='object')\""
      ]
     },
     "execution_count": 7,
     "metadata": {},
     "output_type": "execute_result"
    }
   ],
   "source": [
    "features = list(X_train.columns)\n",
    "for i in range(len(kbest.scores_)):\n",
    "    print('Feature %d: %f' % (i, kbest.scores_[i]))\n",
    "f'The top {len(kbest_features)} features from kbest are: {kbest_features}'"
   ]
  },
  {
   "cell_type": "markdown",
   "id": "1753e159",
   "metadata": {},
   "source": [
    "### Recursive Feature Elimination"
   ]
  },
  {
   "cell_type": "code",
   "execution_count": 28,
   "id": "1814eac4",
   "metadata": {},
   "outputs": [],
   "source": [
    "X_train, X_test, y_train, y_test = train_test_split(X, y, test_size=.2, random_state=123)\n",
    "scaler = StandardScaler()\n",
    "X_train_scaled = scaler.fit_transform(X_train)\n",
    "X_test_scaled = scaler.transform(X_test)"
   ]
  },
  {
   "cell_type": "code",
   "execution_count": 39,
   "id": "c83adced",
   "metadata": {},
   "outputs": [],
   "source": [
    "rfe = RFE(estimator=LinearRegression(), n_features_to_select=2)\n",
    "rfe.fit(X_train_scaled, y_train)\n",
    "rfe_features = X_train.columns[rfe.get_support()]"
   ]
  },
  {
   "cell_type": "markdown",
   "id": "232cab54",
   "metadata": {},
   "source": [
    "#### What are the 2 best features?"
   ]
  },
  {
   "cell_type": "code",
   "execution_count": 10,
   "id": "4b1d242b",
   "metadata": {},
   "outputs": [
    {
     "data": {
      "text/plain": [
       "\"The top 2 features from RFE are: Index(['total_bill', 'tip_percentage'], dtype='object')\""
      ]
     },
     "execution_count": 10,
     "metadata": {},
     "output_type": "execute_result"
    }
   ],
   "source": [
    "features = list(X_train.columns)\n",
    "f'The top {len(rfe_features)} features from RFE are: {rfe_features}'"
   ]
  },
  {
   "cell_type": "code",
   "execution_count": 11,
   "id": "50bf4e00",
   "metadata": {},
   "outputs": [
    {
     "name": "stdout",
     "output_type": "stream",
     "text": [
      "The top 2 features from kbest are: ['total_bill', 'size']\n",
      "The top 2 features from RFE are: ['total_bill', 'tip_percentage']\n"
     ]
    }
   ],
   "source": [
    "# Different feats\n",
    "print(f'The top {len(kbest_features)} features from kbest are: {list(kbest_features)}')\n",
    "print(f'The top {len(rfe_features)} features from RFE are: {list(rfe_features)}')"
   ]
  },
  {
   "cell_type": "markdown",
   "id": "37ddfef4",
   "metadata": {},
   "source": [
    "### Functions"
   ]
  },
  {
   "cell_type": "code",
   "execution_count": 12,
   "id": "0e5483f7",
   "metadata": {},
   "outputs": [],
   "source": [
    "def kbest_features(df, target, k, show_scores = False, stratify = False, scaler_type = StandardScaler()):\n",
    "    '''\n",
    "    Takes a dataframe and uses SelectKBest to select for\n",
    "    the most relevant drivers of target.\n",
    "    \n",
    "    Parameters:\n",
    "    -----------\n",
    "    df : Unscaled dataframe\n",
    "    target : Target variable of df\n",
    "    k : Number of features to select\n",
    "    stratify : No stratification by default. If stratify = true, \n",
    "            stratifies for the target during the train/test split\n",
    "    scaler_type : Default is StandardScaler, determines the type \n",
    "            of scaling applied to the df before\n",
    "    ~~~~~~~~~~~~~~~~~~~~~~~~~~~~~~~~~~~~~~~~~~~~~~~~~~~~~~~~~~~~~~~~~~~~~~~~~\n",
    "    \n",
    "    Output:\n",
    "    -------------\n",
    "    A list of features of (k) length that SelectKBest has selected to be the\n",
    "    main drivers of the target.\n",
    "    '''\n",
    "\n",
    "    # only selects numeric cols and separates target\n",
    "    X = df[[col for col in df.columns if df[col].dtype != object]].drop(columns = target)\n",
    "    y = df[target]\n",
    "    \n",
    "    # train, test split checking for stratify\n",
    "    if stratify == True:\n",
    "        X_train, X_test, y_train, y_test = train_test_split(X, y, test_size=.2, \n",
    "                                                            random_state=123,\n",
    "                                                            stratify=df[target])\n",
    "    elif stratify == False:\n",
    "        X_train, X_test, y_train, y_test = train_test_split(X, y, test_size=.2,\n",
    "                                                            random_state = 123)\n",
    "\n",
    "    # scaling data\n",
    "    if scaler_type == StandardScaler():\n",
    "        scaler = StandardScaler()\n",
    "    else:\n",
    "        scaler = scaler_type\n",
    "\n",
    "    # fitting scaler to each split\n",
    "    X_train_scaled = scaler.fit_transform(X_train)\n",
    "    X_test_scaled = scaler.transform(X_test)\n",
    "\n",
    "    # creating SelectKBest object with {k} selected features\n",
    "    kbest = SelectKBest(f_regression, k= k)\n",
    "    \n",
    "    # fitting object\n",
    "    kbest.fit(X_train_scaled, y_train)\n",
    "    \n",
    "    # assigning features to var\n",
    "    features = X.columns[kbest.get_support()]\n",
    "    if show_scores == True:\n",
    "        # getting feature scores\n",
    "        scores = kbest.scores_[kbest.get_support()]\n",
    "\n",
    "        # creating zipped list of feats and their scores\n",
    "        feat_scores = list(zip(features, scores))\n",
    "    \n",
    "        fs_df = pd.DataFrame(data = feat_scores, columns= ['Feat_names','F_Scores'])\n",
    "    \n",
    "        fs_sorted = fs_df.sort_values(['F_Scores','Feat_names'], ascending = [False, True])\n",
    "\n",
    "        return fs_sorted\n",
    "    else:\n",
    "        return list(features)"
   ]
  },
  {
   "cell_type": "code",
   "execution_count": 13,
   "id": "59e4dc24",
   "metadata": {},
   "outputs": [],
   "source": [
    "def rfe_features(df, target, n, stratify = False, est_model = LinearRegression(), scaler_type = StandardScaler()):\n",
    "    '''\n",
    "    Takes a dataframe and uses Recursive Feature Elimination to select for\n",
    "    the most relevant drivers of target.\n",
    "    \n",
    "    Parameters:\n",
    "    -----------\n",
    "    df : Unscaled dataframe\n",
    "    \n",
    "    target : Target variable of df\n",
    "    \n",
    "    n : Number of features to select\n",
    "    \n",
    "    stratify : No stratification by default. If stratify = true, \n",
    "            stratifies for the target during the train/test split\n",
    "            \n",
    "    est_model : Defailt is LinearRegression, determines the estimator\n",
    "            used by the RFE function\n",
    "    \n",
    "    scaler_type : Default is StandardScaler, determines the type \n",
    "            of scaling applied to the df before\n",
    "    ~~~~~~~~~~~~~~~~~~~~~~~~~~~~~~~~~~~~~~~~~~~~~~~~~~~~~~~~~~~~~~~~~~~~~~~~~\n",
    "    \n",
    "    Output:\n",
    "    -------------\n",
    "    A list of features of (n) length that RFE has selected to be the\n",
    "    main drivers of the target.\n",
    "    '''\n",
    "    # only selects numeric cols and separates target\n",
    "    X = df[[col for col in df.columns if df[col].dtype != object]].drop(columns = target)\n",
    "    y = df[target]\n",
    "\n",
    "    # train, test split checking for stratify\n",
    "    if stratify == True:\n",
    "        X_train, X_test, y_train, y_test = train_test_split(X, y, test_size=.2, \n",
    "                                                            random_state=123,\n",
    "                                                            stratify=df[target])\n",
    "    elif stratify == False:\n",
    "        X_train, X_test, y_train, y_test = train_test_split(X, y, test_size=.2,\n",
    "                                                            random_state = 123)\n",
    "    \n",
    "    # scaling data\n",
    "    if scaler_type == StandardScaler():\n",
    "        scaler = StandardScaler()\n",
    "    else:\n",
    "        scaler = scaler_type\n",
    "    \n",
    "    # fitting scaler to each split\n",
    "    X_train_scaled = scaler.fit_transform(X_train)\n",
    "    X_test_scaled = scaler.transform(X_test)\n",
    "    \n",
    "    # creating RFE object with {n} selected features\n",
    "    rfe = RFE(estimator= est_model, n_features_to_select=n)\n",
    "    \n",
    "    # fitting object\n",
    "    rfe.fit(X_train_scaled, y_train)\n",
    "    \n",
    "    # assigning features to var\n",
    "    features = X.columns[rfe.get_support()]\n",
    "    \n",
    "    return list(features)"
   ]
  },
  {
   "cell_type": "markdown",
   "id": "1208039c",
   "metadata": {},
   "source": [
    "### Swiss Dataset"
   ]
  },
  {
   "cell_type": "code",
   "execution_count": 14,
   "id": "04424f03",
   "metadata": {},
   "outputs": [
    {
     "data": {
      "text/html": [
       "<div>\n",
       "<style scoped>\n",
       "    .dataframe tbody tr th:only-of-type {\n",
       "        vertical-align: middle;\n",
       "    }\n",
       "\n",
       "    .dataframe tbody tr th {\n",
       "        vertical-align: top;\n",
       "    }\n",
       "\n",
       "    .dataframe thead th {\n",
       "        text-align: right;\n",
       "    }\n",
       "</style>\n",
       "<table border=\"1\" class=\"dataframe\">\n",
       "  <thead>\n",
       "    <tr style=\"text-align: right;\">\n",
       "      <th></th>\n",
       "      <th>Fertility</th>\n",
       "      <th>Agriculture</th>\n",
       "      <th>Examination</th>\n",
       "      <th>Education</th>\n",
       "      <th>Catholic</th>\n",
       "      <th>Infant.Mortality</th>\n",
       "    </tr>\n",
       "  </thead>\n",
       "  <tbody>\n",
       "    <tr>\n",
       "      <th>Courtelary</th>\n",
       "      <td>80.2</td>\n",
       "      <td>17.0</td>\n",
       "      <td>15</td>\n",
       "      <td>12</td>\n",
       "      <td>9.96</td>\n",
       "      <td>22.2</td>\n",
       "    </tr>\n",
       "    <tr>\n",
       "      <th>Delemont</th>\n",
       "      <td>83.1</td>\n",
       "      <td>45.1</td>\n",
       "      <td>6</td>\n",
       "      <td>9</td>\n",
       "      <td>84.84</td>\n",
       "      <td>22.2</td>\n",
       "    </tr>\n",
       "    <tr>\n",
       "      <th>Franches-Mnt</th>\n",
       "      <td>92.5</td>\n",
       "      <td>39.7</td>\n",
       "      <td>5</td>\n",
       "      <td>5</td>\n",
       "      <td>93.40</td>\n",
       "      <td>20.2</td>\n",
       "    </tr>\n",
       "    <tr>\n",
       "      <th>Moutier</th>\n",
       "      <td>85.8</td>\n",
       "      <td>36.5</td>\n",
       "      <td>12</td>\n",
       "      <td>7</td>\n",
       "      <td>33.77</td>\n",
       "      <td>20.3</td>\n",
       "    </tr>\n",
       "    <tr>\n",
       "      <th>Neuveville</th>\n",
       "      <td>76.9</td>\n",
       "      <td>43.5</td>\n",
       "      <td>17</td>\n",
       "      <td>15</td>\n",
       "      <td>5.16</td>\n",
       "      <td>20.6</td>\n",
       "    </tr>\n",
       "  </tbody>\n",
       "</table>\n",
       "</div>"
      ],
      "text/plain": [
       "              Fertility  Agriculture  Examination  Education  Catholic  \\\n",
       "Courtelary         80.2         17.0           15         12      9.96   \n",
       "Delemont           83.1         45.1            6          9     84.84   \n",
       "Franches-Mnt       92.5         39.7            5          5     93.40   \n",
       "Moutier            85.8         36.5           12          7     33.77   \n",
       "Neuveville         76.9         43.5           17         15      5.16   \n",
       "\n",
       "              Infant.Mortality  \n",
       "Courtelary                22.2  \n",
       "Delemont                  22.2  \n",
       "Franches-Mnt              20.2  \n",
       "Moutier                   20.3  \n",
       "Neuveville                20.6  "
      ]
     },
     "execution_count": 14,
     "metadata": {},
     "output_type": "execute_result"
    }
   ],
   "source": [
    "swiss = pydataset.data('swiss')\n",
    "swiss.head()"
   ]
  },
  {
   "cell_type": "code",
   "execution_count": 15,
   "id": "55e4dd92",
   "metadata": {},
   "outputs": [
    {
     "data": {
      "text/html": [
       "<div>\n",
       "<style scoped>\n",
       "    .dataframe tbody tr th:only-of-type {\n",
       "        vertical-align: middle;\n",
       "    }\n",
       "\n",
       "    .dataframe tbody tr th {\n",
       "        vertical-align: top;\n",
       "    }\n",
       "\n",
       "    .dataframe thead th {\n",
       "        text-align: right;\n",
       "    }\n",
       "</style>\n",
       "<table border=\"1\" class=\"dataframe\">\n",
       "  <thead>\n",
       "    <tr style=\"text-align: right;\">\n",
       "      <th></th>\n",
       "      <th>Feat_names</th>\n",
       "      <th>F_Scores</th>\n",
       "    </tr>\n",
       "  </thead>\n",
       "  <tbody>\n",
       "    <tr>\n",
       "      <th>1</th>\n",
       "      <td>Education</td>\n",
       "      <td>15.085392</td>\n",
       "    </tr>\n",
       "    <tr>\n",
       "      <th>0</th>\n",
       "      <td>Examination</td>\n",
       "      <td>14.806314</td>\n",
       "    </tr>\n",
       "    <tr>\n",
       "      <th>2</th>\n",
       "      <td>Catholic</td>\n",
       "      <td>9.737175</td>\n",
       "    </tr>\n",
       "  </tbody>\n",
       "</table>\n",
       "</div>"
      ],
      "text/plain": [
       "    Feat_names   F_Scores\n",
       "1    Education  15.085392\n",
       "0  Examination  14.806314\n",
       "2     Catholic   9.737175"
      ]
     },
     "execution_count": 15,
     "metadata": {},
     "output_type": "execute_result"
    }
   ],
   "source": [
    "kbest_features(swiss, 'Fertility', 3, show_scores= True)"
   ]
  },
  {
   "cell_type": "code",
   "execution_count": 16,
   "id": "33d48af2",
   "metadata": {},
   "outputs": [
    {
     "data": {
      "text/plain": [
       "['Agriculture', 'Education', 'Catholic']"
      ]
     },
     "execution_count": 16,
     "metadata": {},
     "output_type": "execute_result"
    }
   ],
   "source": [
    "rfe_features(swiss, 'Fertility', 3)"
   ]
  },
  {
   "cell_type": "code",
   "execution_count": 17,
   "id": "5b348c25",
   "metadata": {},
   "outputs": [
    {
     "data": {
      "text/plain": [
       "['Examination', 'Education', 'Catholic']"
      ]
     },
     "execution_count": 17,
     "metadata": {},
     "output_type": "execute_result"
    }
   ],
   "source": [
    "ev.kbest_features(swiss, 'Fertility', 3)"
   ]
  },
  {
   "cell_type": "code",
   "execution_count": 18,
   "id": "d0c71f4a",
   "metadata": {
    "scrolled": true
   },
   "outputs": [
    {
     "data": {
      "text/plain": [
       "['Agriculture', 'Education', 'Catholic']"
      ]
     },
     "execution_count": 18,
     "metadata": {},
     "output_type": "execute_result"
    }
   ],
   "source": [
    "ev.rfe_features(swiss, 'Fertility', 3)"
   ]
  }
 ],
 "metadata": {
  "kernelspec": {
   "display_name": "Python 3",
   "language": "python",
   "name": "python3"
  },
  "language_info": {
   "codemirror_mode": {
    "name": "ipython",
    "version": 3
   },
   "file_extension": ".py",
   "mimetype": "text/x-python",
   "name": "python",
   "nbconvert_exporter": "python",
   "pygments_lexer": "ipython3",
   "version": "3.8.8"
  }
 },
 "nbformat": 4,
 "nbformat_minor": 5
}
