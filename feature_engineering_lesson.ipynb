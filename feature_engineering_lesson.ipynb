{
 "cells": [
  {
   "cell_type": "markdown",
   "id": "7dba2493-6545-43d1-85c0-bd71aa194b43",
   "metadata": {},
   "source": [
    "# Feature Engineering\n",
    "\n",
    "In this lesson we discuss some methods for *automated* feature engineering, specifically feature selection.\n",
    "\n",
    "While these methods can produce useful results, they are but a single piece of of the feature engineering puzzle."
   ]
  },
  {
   "cell_type": "markdown",
   "id": "6f0c87db-5c04-4b35-ae9d-6d754f076f83",
   "metadata": {},
   "source": [
    "## Setup"
   ]
  },
  {
   "cell_type": "code",
   "execution_count": 67,
   "id": "5b58cab4-ca6d-4590-8590-42b728149ed2",
   "metadata": {},
   "outputs": [],
   "source": [
    "import pandas as pd\n",
    "import numpy as np\n",
    "import pydataset\n",
    "import evaluate\n",
    "import matplotlib.pyplot as plt\n",
    "from sklearn.feature_selection import SelectKBest, f_regression, RFE\n",
    "from sklearn.linear_model import LinearRegression\n",
    "from sklearn.model_selection import train_test_split\n",
    "from sklearn.preprocessing import StandardScaler\n",
    "\n",
    "tips = pydataset.data('tips')\n",
    "tips['smoker'] = (tips.smoker == 'Yes').astype(int)\n",
    "tips['dinner'] = (tips.time == 'Dinner').astype(int)"
   ]
  },
  {
   "cell_type": "code",
   "execution_count": 58,
   "id": "60b95d52",
   "metadata": {},
   "outputs": [
    {
     "data": {
      "text/html": [
       "<div>\n",
       "<style scoped>\n",
       "    .dataframe tbody tr th:only-of-type {\n",
       "        vertical-align: middle;\n",
       "    }\n",
       "\n",
       "    .dataframe tbody tr th {\n",
       "        vertical-align: top;\n",
       "    }\n",
       "\n",
       "    .dataframe thead th {\n",
       "        text-align: right;\n",
       "    }\n",
       "</style>\n",
       "<table border=\"1\" class=\"dataframe\">\n",
       "  <thead>\n",
       "    <tr style=\"text-align: right;\">\n",
       "      <th></th>\n",
       "      <th>total_bill</th>\n",
       "      <th>tip</th>\n",
       "      <th>sex</th>\n",
       "      <th>smoker</th>\n",
       "      <th>day</th>\n",
       "      <th>time</th>\n",
       "      <th>size</th>\n",
       "      <th>dinner</th>\n",
       "    </tr>\n",
       "  </thead>\n",
       "  <tbody>\n",
       "    <tr>\n",
       "      <th>1</th>\n",
       "      <td>16.99</td>\n",
       "      <td>1.01</td>\n",
       "      <td>Female</td>\n",
       "      <td>0</td>\n",
       "      <td>Sun</td>\n",
       "      <td>Dinner</td>\n",
       "      <td>2</td>\n",
       "      <td>1</td>\n",
       "    </tr>\n",
       "    <tr>\n",
       "      <th>2</th>\n",
       "      <td>10.34</td>\n",
       "      <td>1.66</td>\n",
       "      <td>Male</td>\n",
       "      <td>0</td>\n",
       "      <td>Sun</td>\n",
       "      <td>Dinner</td>\n",
       "      <td>3</td>\n",
       "      <td>1</td>\n",
       "    </tr>\n",
       "    <tr>\n",
       "      <th>3</th>\n",
       "      <td>21.01</td>\n",
       "      <td>3.50</td>\n",
       "      <td>Male</td>\n",
       "      <td>0</td>\n",
       "      <td>Sun</td>\n",
       "      <td>Dinner</td>\n",
       "      <td>3</td>\n",
       "      <td>1</td>\n",
       "    </tr>\n",
       "    <tr>\n",
       "      <th>4</th>\n",
       "      <td>23.68</td>\n",
       "      <td>3.31</td>\n",
       "      <td>Male</td>\n",
       "      <td>0</td>\n",
       "      <td>Sun</td>\n",
       "      <td>Dinner</td>\n",
       "      <td>2</td>\n",
       "      <td>1</td>\n",
       "    </tr>\n",
       "    <tr>\n",
       "      <th>5</th>\n",
       "      <td>24.59</td>\n",
       "      <td>3.61</td>\n",
       "      <td>Female</td>\n",
       "      <td>0</td>\n",
       "      <td>Sun</td>\n",
       "      <td>Dinner</td>\n",
       "      <td>4</td>\n",
       "      <td>1</td>\n",
       "    </tr>\n",
       "  </tbody>\n",
       "</table>\n",
       "</div>"
      ],
      "text/plain": [
       "   total_bill   tip     sex  smoker  day    time  size  dinner\n",
       "1       16.99  1.01  Female       0  Sun  Dinner     2       1\n",
       "2       10.34  1.66    Male       0  Sun  Dinner     3       1\n",
       "3       21.01  3.50    Male       0  Sun  Dinner     3       1\n",
       "4       23.68  3.31    Male       0  Sun  Dinner     2       1\n",
       "5       24.59  3.61  Female       0  Sun  Dinner     4       1"
      ]
     },
     "execution_count": 58,
     "metadata": {},
     "output_type": "execute_result"
    }
   ],
   "source": [
    "tips.head()"
   ]
  },
  {
   "cell_type": "code",
   "execution_count": 59,
   "id": "1a68bb10-3c4c-434b-8814-57f93ea67954",
   "metadata": {},
   "outputs": [],
   "source": [
    "X = tips[['total_bill', 'size', 'smoker', 'dinner']]\n",
    "y = tips.tip\n",
    "\n",
    "X_train, X_test, y_train, y_test = train_test_split(X, y, test_size=.2, random_state=123)\n",
    "scaler = StandardScaler()\n",
    "X_train_scaled = scaler.fit_transform(X_train)\n",
    "X_test_scaled = scaler.transform(X_test)"
   ]
  },
  {
   "cell_type": "markdown",
   "id": "1cec7002-744c-478f-aed3-809c838066be",
   "metadata": {},
   "source": [
    "## Select K Best\n",
    "\n",
    "- uses an f regression test\n",
    "- looks at each feature in isolation\n",
    "- is a model with that feature better than no model at all"
   ]
  },
  {
   "cell_type": "code",
   "execution_count": 60,
   "id": "ed7d21ea-3812-4072-8194-9b3c08df18c9",
   "metadata": {},
   "outputs": [
    {
     "data": {
      "text/plain": [
       "SelectKBest(k=3, score_func=<function f_regression at 0x7f8b50601280>)"
      ]
     },
     "execution_count": 60,
     "metadata": {},
     "output_type": "execute_result"
    }
   ],
   "source": [
    "kbest = SelectKBest(f_regression, k=3)\n",
    "kbest.fit(X_train_scaled, y_train)"
   ]
  },
  {
   "cell_type": "code",
   "execution_count": 61,
   "id": "175bcb66-1cde-40cb-9ff1-389a79b59d7a",
   "metadata": {},
   "outputs": [
    {
     "data": {
      "text/plain": [
       "array([ True,  True, False,  True])"
      ]
     },
     "execution_count": 61,
     "metadata": {},
     "output_type": "execute_result"
    }
   ],
   "source": [
    "kbest.get_support()"
   ]
  },
  {
   "cell_type": "code",
   "execution_count": 77,
   "id": "791bc302-d1da-47fc-8418-249c6ea92518",
   "metadata": {},
   "outputs": [
    {
     "data": {
      "text/plain": [
       "<bound method SelectorMixin.transform of SelectKBest(k=3, score_func=<function f_regression at 0x7f8b50601280>)>"
      ]
     },
     "execution_count": 77,
     "metadata": {},
     "output_type": "execute_result"
    }
   ],
   "source": [
    "tk = kbest.transform\n",
    "tk"
   ]
  },
  {
   "cell_type": "markdown",
   "id": "797d03a8-c8b6-47d0-8535-0d517c5a8230",
   "metadata": {},
   "source": [
    "<div style=\"border: 1px solid black; border-radius: 3px; background: palegreen; padding: .5em 1em;\">\n",
    "    <p style=\"font-size: 1.3em; font-weight: bold\">Mini Exercise</p>\n",
    "    <ol>\n",
    "        <li>Use <code>pydataset</code> to load the <code>swiss</code> dataset.</li>\n",
    "        <li>Split the swiss dataset into X and y, and train and test. The goal is to predict <code>Fertility</code>.</li>\n",
    "        <li>Use <code>SelectKBest</code> to find the top 3 features that predict fertility in the swiss data set.</li>\n",
    "    </ol>\n",
    "</div>"
   ]
  },
  {
   "cell_type": "code",
   "execution_count": 63,
   "id": "dd8238e9",
   "metadata": {},
   "outputs": [],
   "source": [
    "X = swiss.drop(columns =['Fertility'])\n",
    "y = swiss.Fertility\n",
    "\n",
    "X_train, X_test, y_train, y_test = train_test_split(X, y, test_size=.2, random_state=123)\n",
    "scaler = StandardScaler()\n",
    "X_train_scaled = scaler.fit_transform(X_train)\n",
    "X_test_scaled = scaler.transform(X_test)"
   ]
  },
  {
   "cell_type": "code",
   "execution_count": 64,
   "id": "1b90ea0c",
   "metadata": {},
   "outputs": [
    {
     "data": {
      "text/plain": [
       "SelectKBest(k=3, score_func=<function f_regression at 0x7f8b50601280>)"
      ]
     },
     "execution_count": 64,
     "metadata": {},
     "output_type": "execute_result"
    }
   ],
   "source": [
    "kbest = SelectKBest(f_regression, k=3)\n",
    "kbest.fit(X_train_scaled, y_train)"
   ]
  },
  {
   "cell_type": "code",
   "execution_count": 70,
   "id": "c0873211",
   "metadata": {
    "scrolled": false
   },
   "outputs": [],
   "source": [
    "kbest.scores_.sort()"
   ]
  },
  {
   "cell_type": "code",
   "execution_count": 71,
   "id": "0c250401",
   "metadata": {},
   "outputs": [
    {
     "name": "stdout",
     "output_type": "stream",
     "text": [
      "Feature 0: 2.383293\n",
      "Feature 1: 3.215111\n",
      "Feature 2: 9.737175\n",
      "Feature 3: 14.806314\n",
      "Feature 4: 15.085392\n"
     ]
    },
    {
     "data": {
      "image/png": "[encoded data removed]",
      "text/plain": [
       "<Figure size 640x480 with 1 Axes>"
      ]
     },
     "metadata": {},
     "output_type": "display_data"
    }
   ],
   "source": [
    "for i in range(len(kbest.scores_)):\n",
    "    print('Feature %d: %f' % (i, kbest.scores_[i]))\n",
    "# plot the scores\n",
    "plt.bar([i for i in range(len(kbest.scores_))], kbest.scores_)\n",
    "plt.show()"
   ]
  },
  {
   "cell_type": "markdown",
   "id": "70f3bcf1-35a0-44e5-8637-f2d538858cee",
   "metadata": {},
   "source": [
    "## Recursive Feature Elimination\n",
    "\n",
    "- Fits a model and eliminates the worst performing features\n",
    "- More computationally expensive\n",
    "- Looks at all the features together"
   ]
  },
  {
   "cell_type": "code",
   "execution_count": 21,
   "id": "a9a5375b-29ff-42b7-ab6b-cffd94edb649",
   "metadata": {},
   "outputs": [],
   "source": [
    "rfe = RFE(estimator=LinearRegression(), n_features_to_select=1)\n",
    "rfe.fit(X_train_scaled, y_train)\n",
    "features = rfe.get_support()"
   ]
  },
  {
   "cell_type": "code",
   "execution_count": 25,
   "id": "f3a9457b",
   "metadata": {},
   "outputs": [
    {
     "data": {
      "text/html": [
       "<div>\n",
       "<style scoped>\n",
       "    .dataframe tbody tr th:only-of-type {\n",
       "        vertical-align: middle;\n",
       "    }\n",
       "\n",
       "    .dataframe tbody tr th {\n",
       "        vertical-align: top;\n",
       "    }\n",
       "\n",
       "    .dataframe thead th {\n",
       "        text-align: right;\n",
       "    }\n",
       "</style>\n",
       "<table border=\"1\" class=\"dataframe\">\n",
       "  <thead>\n",
       "    <tr style=\"text-align: right;\">\n",
       "      <th></th>\n",
       "      <th>total_bill</th>\n",
       "    </tr>\n",
       "  </thead>\n",
       "  <tbody>\n",
       "    <tr>\n",
       "      <th>24</th>\n",
       "      <td>39.42</td>\n",
       "    </tr>\n",
       "    <tr>\n",
       "      <th>191</th>\n",
       "      <td>15.69</td>\n",
       "    </tr>\n",
       "    <tr>\n",
       "      <th>210</th>\n",
       "      <td>12.76</td>\n",
       "    </tr>\n",
       "    <tr>\n",
       "      <th>11</th>\n",
       "      <td>10.27</td>\n",
       "    </tr>\n",
       "    <tr>\n",
       "      <th>197</th>\n",
       "      <td>10.34</td>\n",
       "    </tr>\n",
       "  </tbody>\n",
       "</table>\n",
       "</div>"
      ],
      "text/plain": [
       "     total_bill\n",
       "24        39.42\n",
       "191       15.69\n",
       "210       12.76\n",
       "11        10.27\n",
       "197       10.34"
      ]
     },
     "execution_count": 25,
     "metadata": {},
     "output_type": "execute_result"
    }
   ],
   "source": [
    "X_train[X_train.columns[features]].head()"
   ]
  },
  {
   "cell_type": "code",
   "execution_count": 69,
   "id": "b8914b8e-c85d-4b76-917a-9e26d39d1bc5",
   "metadata": {},
   "outputs": [
    {
     "data": {
      "text/plain": [
       "Agriculture         1\n",
       "Examination         3\n",
       "Education           1\n",
       "Catholic            1\n",
       "Infant.Mortality    2\n",
       "dtype: int64"
      ]
     },
     "execution_count": 69,
     "metadata": {},
     "output_type": "execute_result"
    }
   ],
   "source": [
    "pd.Series(rfe.ranking_, index = X_train.columns)"
   ]
  },
  {
   "cell_type": "markdown",
   "id": "8627ebe6-f801-4d97-b901-ce9c686b0d15",
   "metadata": {},
   "source": [
    "<div style=\"border: 1px solid black; border-radius: 3px; background: palegreen; padding: .5em 1em;\">\n",
    "    <p style=\"font-size: 1.3em; font-weight: bold\">Mini Exercise</p>\n",
    "    <ol>\n",
    "        <li>Use <code>RFE</code> and <code>LinearRegression</code> to find the top 3 features that predict fertility in the swiss data set.</li>\n",
    "        <li>Are the results different than what select k best gave you?</li>\n",
    "    </ol>\n",
    "</div>"
   ]
  },
  {
   "cell_type": "code",
   "execution_count": 33,
   "id": "e44431fb",
   "metadata": {},
   "outputs": [],
   "source": [
    "swiss = pydataset.data('swiss')"
   ]
  },
  {
   "cell_type": "code",
   "execution_count": 34,
   "id": "8502c7a9",
   "metadata": {},
   "outputs": [
    {
     "data": {
      "text/html": [
       "<div>\n",
       "<style scoped>\n",
       "    .dataframe tbody tr th:only-of-type {\n",
       "        vertical-align: middle;\n",
       "    }\n",
       "\n",
       "    .dataframe tbody tr th {\n",
       "        vertical-align: top;\n",
       "    }\n",
       "\n",
       "    .dataframe thead th {\n",
       "        text-align: right;\n",
       "    }\n",
       "</style>\n",
       "<table border=\"1\" class=\"dataframe\">\n",
       "  <thead>\n",
       "    <tr style=\"text-align: right;\">\n",
       "      <th></th>\n",
       "      <th>Fertility</th>\n",
       "      <th>Agriculture</th>\n",
       "      <th>Examination</th>\n",
       "      <th>Education</th>\n",
       "      <th>Catholic</th>\n",
       "      <th>Infant.Mortality</th>\n",
       "    </tr>\n",
       "  </thead>\n",
       "  <tbody>\n",
       "    <tr>\n",
       "      <th>Courtelary</th>\n",
       "      <td>80.2</td>\n",
       "      <td>17.0</td>\n",
       "      <td>15</td>\n",
       "      <td>12</td>\n",
       "      <td>9.96</td>\n",
       "      <td>22.2</td>\n",
       "    </tr>\n",
       "    <tr>\n",
       "      <th>Delemont</th>\n",
       "      <td>83.1</td>\n",
       "      <td>45.1</td>\n",
       "      <td>6</td>\n",
       "      <td>9</td>\n",
       "      <td>84.84</td>\n",
       "      <td>22.2</td>\n",
       "    </tr>\n",
       "    <tr>\n",
       "      <th>Franches-Mnt</th>\n",
       "      <td>92.5</td>\n",
       "      <td>39.7</td>\n",
       "      <td>5</td>\n",
       "      <td>5</td>\n",
       "      <td>93.40</td>\n",
       "      <td>20.2</td>\n",
       "    </tr>\n",
       "    <tr>\n",
       "      <th>Moutier</th>\n",
       "      <td>85.8</td>\n",
       "      <td>36.5</td>\n",
       "      <td>12</td>\n",
       "      <td>7</td>\n",
       "      <td>33.77</td>\n",
       "      <td>20.3</td>\n",
       "    </tr>\n",
       "    <tr>\n",
       "      <th>Neuveville</th>\n",
       "      <td>76.9</td>\n",
       "      <td>43.5</td>\n",
       "      <td>17</td>\n",
       "      <td>15</td>\n",
       "      <td>5.16</td>\n",
       "      <td>20.6</td>\n",
       "    </tr>\n",
       "  </tbody>\n",
       "</table>\n",
       "</div>"
      ],
      "text/plain": [
       "              Fertility  Agriculture  Examination  Education  Catholic  \\\n",
       "Courtelary         80.2         17.0           15         12      9.96   \n",
       "Delemont           83.1         45.1            6          9     84.84   \n",
       "Franches-Mnt       92.5         39.7            5          5     93.40   \n",
       "Moutier            85.8         36.5           12          7     33.77   \n",
       "Neuveville         76.9         43.5           17         15      5.16   \n",
       "\n",
       "              Infant.Mortality  \n",
       "Courtelary                22.2  \n",
       "Delemont                  22.2  \n",
       "Franches-Mnt              20.2  \n",
       "Moutier                   20.3  \n",
       "Neuveville                20.6  "
      ]
     },
     "execution_count": 34,
     "metadata": {},
     "output_type": "execute_result"
    }
   ],
   "source": [
    "swiss.head()"
   ]
  },
  {
   "cell_type": "code",
   "execution_count": 41,
   "id": "8a0fd462",
   "metadata": {},
   "outputs": [],
   "source": [
    "X = swiss.drop(columns =['Fertility'])\n",
    "y = swiss.Fertility\n",
    "\n",
    "X_train, X_test, y_train, y_test = train_test_split(X, y, test_size=.2, random_state=123)\n",
    "scaler = StandardScaler()\n",
    "X_train_scaled = scaler.fit_transform(X_train)\n",
    "X_test_scaled = scaler.transform(X_test)"
   ]
  },
  {
   "cell_type": "code",
   "execution_count": 49,
   "id": "8fca4b43",
   "metadata": {},
   "outputs": [],
   "source": [
    "rfe = RFE(estimator=LinearRegression(), n_features_to_select=3)\n",
    "rfe.fit(X_train_scaled, y_train)\n",
    "features = X_train.columns[rfe.get_support()]"
   ]
  },
  {
   "cell_type": "code",
   "execution_count": 56,
   "id": "c12b0530",
   "metadata": {},
   "outputs": [
    {
     "data": {
      "text/plain": [
       "\"The top 3 features are: Index(['Agriculture', 'Education', 'Catholic'], dtype='object')\""
      ]
     },
     "execution_count": 56,
     "metadata": {},
     "output_type": "execute_result"
    }
   ],
   "source": [
    "f'The top 3 features are: {features}'"
   ]
  },
  {
   "cell_type": "code",
   "execution_count": null,
   "id": "61a34850",
   "metadata": {},
   "outputs": [],
   "source": []
  }
 ],
 "metadata": {
  "kernelspec": {
   "display_name": "Python 3",
   "language": "python",
   "name": "python3"
  },
  "language_info": {
   "codemirror_mode": {
    "name": "ipython",
    "version": 3
   },
   "file_extension": ".py",
   "mimetype": "text/x-python",
   "name": "python",
   "nbconvert_exporter": "python",
   "pygments_lexer": "ipython3",
   "version": "3.8.8"
  }
 },
 "nbformat": 4,
 "nbformat_minor": 5
}
